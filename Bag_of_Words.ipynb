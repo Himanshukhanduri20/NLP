{
  "nbformat": 4,
  "nbformat_minor": 0,
  "metadata": {
    "colab": {
      "name": "Bag of Words.ipynb",
      "provenance": [],
      "authorship_tag": "ABX9TyNS/btRNw8/HfPOM0vua5QP",
      "include_colab_link": true
    },
    "kernelspec": {
      "name": "python3",
      "display_name": "Python 3"
    },
    "language_info": {
      "name": "python"
    }
  },
  "cells": [
    {
      "cell_type": "markdown",
      "metadata": {
        "id": "view-in-github",
        "colab_type": "text"
      },
      "source": [
        "<a href=\"https://colab.research.google.com/github/Himanshukhanduri20/NLP/blob/main/Bag_of_Words.ipynb\" target=\"_parent\"><img src=\"https://colab.research.google.com/assets/colab-badge.svg\" alt=\"Open In Colab\"/></a>"
      ]
    },
    {
      "cell_type": "code",
      "execution_count": 5,
      "metadata": {
        "colab": {
          "base_uri": "https://localhost:8080/"
        },
        "id": "x-jnFC6sScoW",
        "outputId": "53d8aea8-019d-4820-b3b6-af79d845d403"
      },
      "outputs": [
        {
          "output_type": "stream",
          "name": "stdout",
          "text": [
            "[[0 0 0 0 0 0 0 1 0 0 0 0 1 0 0 0 1 0 0 0 0 0 0 1 0 0 0 0 1 0 0 0 0 0 0 0\n",
            "  0 0 0 0 0 0 0 0 1 1 0 0 0 0 0 0 0 0 0 2 0 0 1 0 0 0 0 1 0 1 0 0 1]\n",
            " [0 1 0 0 0 0 0 0 0 0 1 0 0 0 0 0 0 1 2 0 1 0 0 0 0 1 0 0 0 1 0 0 0 0 0 0\n",
            "  0 0 0 0 0 0 0 1 0 2 0 0 0 0 0 0 0 1 0 2 0 1 0 0 1 1 1 1 1 1 1 0 0]\n",
            " [0 0 0 0 0 0 0 0 0 0 0 0 0 0 0 1 0 0 0 0 0 0 0 0 1 0 1 0 0 0 0 0 0 0 1 0\n",
            "  0 0 0 0 0 0 0 0 0 2 0 1 0 0 0 0 0 1 0 1 0 0 0 0 0 1 0 0 0 0 0 0 0]\n",
            " [0 0 0 0 0 1 1 0 0 0 0 0 0 0 0 0 0 0 0 0 0 0 0 0 0 0 0 0 0 0 0 0 0 0 0 0\n",
            "  0 0 0 0 1 0 0 0 0 1 0 0 0 0 0 0 1 0 0 1 0 0 0 0 0 0 0 0 0 1 0 0 0]\n",
            " [0 0 0 1 1 0 0 0 1 0 0 0 0 1 0 0 0 0 0 1 0 0 1 0 0 0 0 1 0 0 0 1 0 1 0 0\n",
            "  0 0 0 0 0 0 2 0 0 1 0 0 1 0 1 1 0 0 0 3 0 0 0 0 0 0 0 0 0 1 0 0 0]\n",
            " [0 0 1 0 0 0 0 0 0 0 0 0 0 0 0 0 0 0 0 0 0 0 0 0 0 0 0 0 0 0 0 0 0 0 0 0\n",
            "  0 1 0 1 0 0 0 0 0 2 0 0 0 0 0 0 0 0 0 2 0 0 0 1 0 0 0 0 0 2 0 0 0]\n",
            " [1 0 0 0 0 0 0 0 0 1 0 1 0 0 1 0 1 0 0 0 0 1 1 0 0 0 0 0 1 0 1 0 1 0 0 1\n",
            "  0 1 1 0 0 1 0 0 0 4 1 0 0 1 1 0 0 0 1 3 1 0 0 0 0 0 0 0 0 2 0 0 0]\n",
            " [0 0 0 0 0 0 0 0 0 0 0 0 0 0 0 0 0 0 0 0 0 0 0 0 0 0 0 1 0 0 0 0 0 0 0 0\n",
            "  1 0 0 0 0 0 0 0 0 1 0 0 0 0 0 0 0 0 0 1 0 0 0 0 0 0 0 0 0 1 0 1 0]]\n"
          ]
        },
        {
          "output_type": "stream",
          "name": "stderr",
          "text": [
            "[nltk_data] Downloading package punkt to /root/nltk_data...\n",
            "[nltk_data]   Package punkt is already up-to-date!\n",
            "[nltk_data] Downloading package stopwords to /root/nltk_data...\n",
            "[nltk_data]   Package stopwords is already up-to-date!\n"
          ]
        }
      ],
      "source": [
        "import nltk\n",
        "nltk.download('punkt')\n",
        "nltk.download('stopwords')\n",
        "\n",
        "paragraph =  \"\"\"A well-organized paragraph supports or develops a single controlling idea, \n",
        "which is expressed in a sentence called the topic sentence. A topic sentence has several \n",
        "important functions: it substantiates or supports an essay’s thesis statement; it unifies \n",
        "the content of a paragraph and directs the order of the sentences; and it advises the \n",
        "reader of the subject to be discussed and how the paragraph will discuss it. Readers \n",
        "generally look to the first few sentences in a paragraph to determine the subject and \n",
        "perspective of the paragraph. That’s why it’s often best to put the topic sentence at the\n",
        " very beginning of the paragraph. In some cases, however, it’s more effective to place \n",
        " another sentence before the topic sentence—for example, a sentence linking the current \n",
        " paragraph to the previous one, or one providing background information.\n",
        "Although most paragraphs should have a topic sentence, there are a few situations when \n",
        "a paragraph might not need a topic sentence. For example, you might be able to omit a topic \n",
        "sentence in a paragraph that narrates a series of events, if a paragraph continues developing \n",
        "an idea that you introduced (with a topic sentence) in the previous paragraph, or if all the \n",
        "sentences and details in a paragraph clearly refer—perhaps indirectly—to a main point. The vast \n",
        "majority of your paragraphs, however, should have a topic sentence.\"\"\"\n",
        "               \n",
        "               \n",
        "# Cleaning the texts\n",
        "import re\n",
        "from nltk.corpus import stopwords\n",
        "from nltk.stem.porter import PorterStemmer\n",
        "from nltk.stem import WordNetLemmatizer\n",
        "\n",
        "ps = PorterStemmer()\n",
        "wordnet=WordNetLemmatizer()\n",
        "sentences = nltk.sent_tokenize(paragraph)\n",
        "corpus = []\n",
        "for i in range(len(sentences)):\n",
        "    review = re.sub('[^a-zA-Z]', ' ', sentences[i])\n",
        "    review = review.lower()\n",
        "    review = review.split()\n",
        "    review = [ps.stem(word) for word in review if not word in set(stopwords.words('english'))]\n",
        "    review = ' '.join(review)\n",
        "    corpus.append(review)\n",
        "    \n",
        "# Creating the Bag of Words model\n",
        "from sklearn.feature_extraction.text import CountVectorizer\n",
        "cv = CountVectorizer(max_features = 1500)\n",
        "X = cv.fit_transform(corpus).toarray()\n",
        "print(X)"
      ]
    },
    {
      "cell_type": "code",
      "source": [],
      "metadata": {
        "id": "gG9pJWHJTSON"
      },
      "execution_count": null,
      "outputs": []
    }
  ]
}